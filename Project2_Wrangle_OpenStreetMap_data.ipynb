{
 "cells": [
  {
   "cell_type": "markdown",
   "metadata": {},
   "source": [
    "# Project 2: Wrangle OpenStreetMap data\n",
    "***\n",
    "\n",
    "## 1. Map data\n",
    "For this project I have chosen to download the data corresponding to the city of A Coruña, Spain. The motivation behind this is that this is my hometown and, therefore, I am interested to see the degree of representativeness of the OpenStreetMap data and help its improvement if needed. The file **02_Map_Description.txt** contains more information on the map used.\n",
    "\n",
    "## 2. Data auditing\n",
    "The first issue that I faced is that the data is composed mainly of Unicode strings, as the names of streets, cities and so on contain characters in Spanish which are not part of the ASCII, such as the letter ñ. For this reason, I have decided to write the code in Python 3.6, which has a simpler implementation of Unicode strings than Python 2.\n",
    "\n",
    "### Types of tags\n",
    "In terms of auditing the data, I first wanted to investigate the different types of tags that are contained in the dataset. For this, I created a Python script named **audit_tag_types.py** which provides a dictionary with all the different tag types associated to a given element type (e.g. way) and the different values they can take, as well as a dictionary with the number of occurrences for each tag type."
   ]
  },
  {
   "cell_type": "code",
   "execution_count": 1,
   "metadata": {},
   "outputs": [],
   "source": [
    "OSM_FILE = \"LCG_map.osm\" # Name of the .osm file containing the map"
   ]
  },
  {
   "cell_type": "code",
   "execution_count": 2,
   "metadata": {},
   "outputs": [],
   "source": [
    "import audit_tag_types\n",
    "\n",
    "node_tag_types, node_tag_numbers = audit_tag_types.get_tags(OSM_FILE, 'node')\n",
    "way_tag_types, way_tag_numbers = audit_tag_types.get_tags(OSM_FILE, 'way')"
   ]
  },
  {
   "cell_type": "code",
   "execution_count": 3,
   "metadata": {},
   "outputs": [
    {
     "name": "stdout",
     "output_type": "stream",
     "text": [
      "name = 3114\n",
      "name:es = 946\n",
      "name:gl = 933\n",
      "addr:housenumber = 478\n",
      "addr:street = 474\n",
      "alt_name = 222\n",
      "short_name = 220\n"
     ]
    }
   ],
   "source": [
    "# Print the most common tag types for ways (sorted by number of occurrences)\n",
    "for key in sorted(way_tag_numbers, key=way_tag_numbers.get, reverse=True):\n",
    "    if (way_tag_numbers[key] >= 200):\n",
    "        print(key, '=', way_tag_numbers[key])"
   ]
  },
  {
   "cell_type": "code",
   "execution_count": 4,
   "metadata": {},
   "outputs": [
    {
     "name": "stdout",
     "output_type": "stream",
     "text": [
      "As Xubias de Abaixo\n",
      "Praza Emilio Jaspe Deza\n",
      "Praza de Ourense\n",
      "Avenida Nova York\n",
      "Rúa da Ribeira\n"
     ]
    }
   ],
   "source": [
    "for i, value in enumerate(way_tag_types[\"addr:street\"]):\n",
    "    if i >= 5:\n",
    "        break\n",
    "    else:\n",
    "        print(value)"
   ]
  },
  {
   "cell_type": "markdown",
   "metadata": {},
   "source": [
    "The tag **\"addr:street\"** contains the street names for nodes and ways. A quick check showed that the street names seem to be correctly defined, with the street type given at the beginning of the street name (as it is custom in Spain)."
   ]
  },
  {
   "cell_type": "code",
   "execution_count": 5,
   "metadata": {},
   "outputs": [
    {
     "name": "stdout",
     "output_type": "stream",
     "text": [
      "Praza José González Dopeso\n",
      "Parque de Novo Mesoiro\n",
      "Rúa Caramuxo\n",
      "Rúa Vigovidin\n",
      "Parque de Marte\n"
     ]
    }
   ],
   "source": [
    "for i, value in enumerate(way_tag_types[\"name\"]):\n",
    "    if i >= 5:\n",
    "        break\n",
    "    else:\n",
    "        print(value)"
   ]
  },
  {
   "cell_type": "markdown",
   "metadata": {},
   "source": [
    "The tag **\"name\"** &ndash; the most frequent one for both nodes and ways &ndash; seem to contain not only the names of buildings and places, but also the names of streets. This generates a discrepancy, since there are two variables providing the street names. I corrected this when converting the data to CSV format.\n",
    "\n",
    "Additionally, there are several tag types related to \"name\": name:es, name:gl, name:en, alt_name or short_name. The tags containing a semicolon, such as name:es, contain the name of the given element in different languages (**es** for Spanish or **en** for English), whereas the \"alt_name\" and \"short_name\" tags probably contain variations of the original name. I took this into account when converting the data to CSV format, in order to ensure that all tags related to \"name\" are included in the same category or type.\n",
    "\n",
    "### Street types\n",
    "For auditing the types of street I produced a program similar to the one written in the case study lesson, which provides a dictionary with the different street types and all street names associated, as well as a dictionary with the total number of streets for each type. The code is available in the file **audit_street_types.py**."
   ]
  },
  {
   "cell_type": "code",
   "execution_count": 6,
   "metadata": {},
   "outputs": [],
   "source": [
    "import audit_street_types\n",
    "import re"
   ]
  },
  {
   "cell_type": "code",
   "execution_count": 7,
   "metadata": {},
   "outputs": [],
   "source": [
    "# Produce a regular expression to catch the first word on the street name\n",
    "street_type_re = re.compile(r'\\S+\\b', re.IGNORECASE)\n",
    "\n",
    "# Obtain all street types and the number of ocurrences for each type\n",
    "street_types, street_types_count = audit_street_types.get_street_types(OSM_FILE, street_type_re)"
   ]
  },
  {
   "cell_type": "code",
   "execution_count": 8,
   "metadata": {},
   "outputs": [
    {
     "name": "stdout",
     "output_type": "stream",
     "text": [
      "defaultdict(<class 'int'>, {'Rúa': 933, 'Praza': 104, 'Avenida': 76, 'Rolda': 4, 'Parque': 2, 'Glorieta': 3, 'Andén': 1, 'CARRETERA': 1, 'Travesía': 44, 'Praciña': 2, 'Calexón': 4, 'Estrada': 16, 'Paseo': 10, 'Xardíns': 1, 'Lugar': 39, 'Polígono': 10, 'Monte': 2, 'Camiño': 25, 'As': 2, 'Plaza': 1, 'Roi': 1, 'Cantón': 2, 'Escaleira': 1, 'Costa': 3, '2ª': 1, 'Bella': 1, 'Escalinata': 3, 'Agra': 2, 'Pasadizo': 2, 'Prolongación': 1, 'Boquete': 1, 'Estreita': 1, 'Vía': 1, 'Vereda': 2, 'Ruela': 2, 'Xardín': 1, 'Grupo': 4, 'Urbanización': 2, 'Eirís': 1, 'Campus': 3, 'Peirao': 2, 'Ponte': 1, 'Rosalía': 1, 'Anxo': 1, 'Av.Mallos': 1, 'Capitán': 1, 'Calle': 1, 'Avda': 1, 'Avd': 1, 'Carretera': 1, 'Santa': 1, 'María': 1, 'Elviña': 1, 'Zapateira': 1, 'Nostián': 1, 'Rampla': 1, 'Uxes': 1, 'Dársena': 1})\n"
     ]
    }
   ],
   "source": [
    "print(street_types_count)"
   ]
  },
  {
   "cell_type": "markdown",
   "metadata": {},
   "source": [
    "Looking at the street types, I observed several items which would need to be corrected. For clarity, I produced a list of expected street types and filtered them out in order to investigate the suspicious-looking items."
   ]
  },
  {
   "cell_type": "code",
   "execution_count": 9,
   "metadata": {},
   "outputs": [],
   "source": [
    "expected_street_types = ['Rúa', 'Praza', 'Avenida', 'Rolda', 'Glorieta', 'Travesía', 'Praciña', 'Estrada', 'Paseo', 'Lugar',\n",
    "                         'Camiño', 'Cantón', 'Escaleira', 'Costa', 'Escalinata', 'Pasadizo', 'Estreita', 'Vía',\n",
    "                         'Vereda', 'Calexón', 'Ruela', 'Peirao', 'Rampla', 'Autoestrada', 'Autovía']"
   ]
  },
  {
   "cell_type": "code",
   "execution_count": 10,
   "metadata": {},
   "outputs": [
    {
     "name": "stdout",
     "output_type": "stream",
     "text": [
      "Parque : {'Parque de Santa Margarida', 'Parque de San Diego'}\n",
      "Andén : {'Andén de Riazor'}\n",
      "CARRETERA : {'CARRETERA NACIONAL VI KM. 589'}\n",
      "Xardíns : {'Xardíns de Méndez Núñez'}\n"
     ]
    }
   ],
   "source": [
    "# Print a sample of the non-standard items\n",
    "i = 0\n",
    "for key, values in street_types.items():\n",
    "    if (key not in expected_street_types) and (i < 4):\n",
    "        i += 1\n",
    "        print(key, ':', values)"
   ]
  },
  {
   "cell_type": "markdown",
   "metadata": {},
   "source": [
    "I identified the following issues which can be corrected programmatically:\n",
    "* Items containing abbreviated street types: *Avd*, *Av.* or *Avda*.\n",
    "* Items written in Spanish, whereas the official naming should be given in Galician, such as *Carretera* or *Calle*.\n",
    "* Items containing the name of the street but not the street type &ndash; e.g. *Rosalía de Castro* or *Capitán Juan Varela*.\n",
    "\n",
    "However, there are other issues whose correction is more difficult to automate:\n",
    "* There are items which do not represent names of streets, but rather names of districts or neighborhoods, such as *Elviña*, *Uxes* or *Zapateira*.\n",
    "* Some items refer to gardens or parks &ndash; e.g. *Xardín de San Carlos* &ndash; where it is difficult to know whether there is actually a street within this location with this name.\n",
    "\n",
    "Since the correction of these issues would require the analysis of each case individually, I did not correct them in the processing of the data.\n",
    "\n",
    "Additionally, I observed that some names contain the street type not in the first word, but in a later part of the street name &ndash; e.g. *2ª Travesía da Gaiteira*. Since there is no fixed rule for street naming, other than the abovementioned standard practice, there is no need to correct for this.\n",
    "\n",
    "### Names of cities\n",
    "Another issue which I came across while auditing the data is that the names of the cities provided in the OSM file are not entirely consistent:"
   ]
  },
  {
   "cell_type": "code",
   "execution_count": 11,
   "metadata": {},
   "outputs": [
    {
     "name": "stdout",
     "output_type": "stream",
     "text": [
      "{'O Temple', 'O Temple, Cambre', 'Coruña', 'Arteixo', 'Santa Cristina', 'La Coruña', 'A Coruña', 'Culleredo', 'Santa Cruz', 'Oleiros', 'Cambre'}\n"
     ]
    }
   ],
   "source": [
    "# Print all the different cities found in nodes and ways\n",
    "print(node_tag_types[\"addr:city\"].union(way_tag_types[\"addr:city\"]))"
   ]
  },
  {
   "cell_type": "markdown",
   "metadata": {},
   "source": [
    "There are three different cases of the name Coruña: A Coruña, Coruña and La Coruña. I will set all the cases to \"A Coruña\" when processing the data, as this is the official name of the city. Also, there are two cases for O Temple. Since this does not correspond to a city as such, but to a (sort of) neighborhood, I will correct it to \"O Temple, Cambre\", which contains the name of the city it belongs to."
   ]
  },
  {
   "cell_type": "markdown",
   "metadata": {},
   "source": [
    "### Postcodes\n",
    "Finally, I reviewed the postal codes included in the dataset and, while the majority of them are consistent with the expectation &ndash; five-digit codes starting by 15, e.g. 15001 &ndash; there is a mismatching value: 1507. Since it is not possible to confirm the actual postcode of this case (it could be 15007 or any number between 15070 and 15079), I decided to remove this value from the dataset when converting the data to CSV format."
   ]
  },
  {
   "cell_type": "markdown",
   "metadata": {},
   "source": [
    "### Summary of corrections\n",
    "To summarize, I list here the corrections applied to the data when converting the .osm file to CSV format:\n",
    "\n",
    "* Search for street names in \"name\" tags and change their type to \"name:street\" if no \"addr:street\" tag is given for the associated node &ndash; unless the node is a bus stop, since bus stops usually are named after their address.\n",
    "* Correct abbreviated street types, e.g. *Avenida* for *Av.*\n",
    "* Correct street names given in Spanish to Galician.\n",
    "* Add the street type to street names which do not contain it. (Here I will use the most common street type: *Rúa*)\n",
    "* Correct names of cities containing A Coruña and O Temple.\n",
    "* Discard the postal code if it does not contain a 5-digit code.\n",
    "\n",
    "## 3. Data conversion to SQL\n",
    "The first step in the conversion of the .osm file to a SQL database is to read and transform the data into CSV tables. For this, I created a Python program based on the one developed during the case study and applying the specific corrections for this map file. The Python file is **osm2csv.py**.\n",
    "\n",
    "For the program to run I need to provide the following information:\n",
    "* Name of the CSV files for the different tables to be created: *nodes*, *node_tags*, *ways*, *way_nodes* and *way_tags*.\n",
    "* Dictionary containing the street names to be corrected according to the guidelines given above."
   ]
  },
  {
   "cell_type": "code",
   "execution_count": 12,
   "metadata": {},
   "outputs": [],
   "source": [
    "# Define the required CSV filenames\n",
    "NODES_PATH = 'nodes.csv'\n",
    "NODE_TAGS_PATH = 'node_tags.csv'\n",
    "WAYS_PATH = 'ways.csv'\n",
    "WAY_NODES_PATH = 'way_nodes.csv'\n",
    "WAY_TAGS_PATH = 'way_tags.csv'"
   ]
  },
  {
   "cell_type": "code",
   "execution_count": 13,
   "metadata": {},
   "outputs": [],
   "source": [
    "# Define a dictionary for the correction of street types and names\n",
    "street_mapping = {'CARRETERA NACIONAL VI KM. 589': 'Estrada Nacional VI Km. 589', 'Plaza do Santuario': 'Praza do Santuario',\n",
    "                  'Calle Cuba': 'Rúa Cuba', 'Carretera de A Zapateira': 'Estrada da Zapateira',\n",
    "                  'Roi Xordo': 'Rúa Roi Xordo', 'Rosalía de Castro': 'Rúa Rosalía de Castro',\n",
    "                  'Anxo senra Fernandez': 'Rúa Anxo Senra Fernández','Capitán Juan Varela': 'Rúa Capitán Juan Varela',\n",
    "                  'María Corredoira': 'Rúa María Corredoira', 'Av.Mallos': 'Avenida dos Mallos',\n",
    "                  'Avda Alfonso Molina': 'Avenida Alfonso Molina', 'Avd. Ernesto Che Guevara': 'Avenida Ernesto Che Guevara'}"
   ]
  },
  {
   "cell_type": "code",
   "execution_count": 14,
   "metadata": {},
   "outputs": [],
   "source": [
    "import osm2csv"
   ]
  },
  {
   "cell_type": "code",
   "execution_count": 15,
   "metadata": {},
   "outputs": [],
   "source": [
    "# Call function to process map file, apply corrections to data and save it into CSV files\n",
    "osm2csv.process_map(OSM_FILE, street_mapping, expected_street_types, NODES_PATH, NODE_TAGS_PATH, WAYS_PATH, WAY_NODES_PATH, \n",
    "                    WAY_TAGS_PATH, validate=True)"
   ]
  },
  {
   "cell_type": "markdown",
   "metadata": {},
   "source": [
    "For the generation of the SQL database I wrote a Python program based on the schema provided in the Udacity course (see ref. <a href=\"#ref1\">[1]</a>) and the example given in ref. <a href=\"#ref2\">[2]</a>. The code is provided in the file **csv2sqldb.py**."
   ]
  },
  {
   "cell_type": "code",
   "execution_count": 16,
   "metadata": {},
   "outputs": [],
   "source": [
    "import csv2sqldb"
   ]
  },
  {
   "cell_type": "code",
   "execution_count": 17,
   "metadata": {},
   "outputs": [],
   "source": [
    "# Define name of SQL file and call function to create the database, using the CSV filenames defined above\n",
    "SQL_DB_PATH = 'LCG_map.db'\n",
    "\n",
    "csv2sqldb.create_database(SQL_DB_PATH, NODES_PATH, NODE_TAGS_PATH, WAYS_PATH, WAY_NODES_PATH, WAY_TAGS_PATH)"
   ]
  },
  {
   "cell_type": "markdown",
   "metadata": {},
   "source": [
    "## 4. Database queries\n",
    "For this section I made use of the method proposed in reference <a href=\"#ref3\">[3]</a> for printing out SQL queries with Pandas, as well as some of the SQL code used in the sample project provided in the Udacity course (ref. <a href=\"#ref4\">[4]</a>)."
   ]
  },
  {
   "cell_type": "code",
   "execution_count": 18,
   "metadata": {},
   "outputs": [
    {
     "name": "stdout",
     "output_type": "stream",
     "text": [
      "LCG_map.osm : 79.27 MB\n",
      "LCG_map.db : 44.17 MB\n",
      "nodes.csv : 26.14 MB\n",
      "node_tags.csv : 4.76 MB\n",
      "ways.csv : 2.68 MB\n",
      "way_nodes.csv : 10.76 MB\n",
      "way_tags.csv : 4.51 MB\n"
     ]
    }
   ],
   "source": [
    "# Print file sizes\n",
    "import os\n",
    "file_list = [OSM_FILE, SQL_DB_PATH, NODES_PATH, NODE_TAGS_PATH, WAYS_PATH, WAY_NODES_PATH, WAY_TAGS_PATH]\n",
    "for file in file_list:\n",
    "    print(file, ':', str(round(float(os.path.getsize(file)/1e6), 2)), 'MB')"
   ]
  },
  {
   "cell_type": "code",
   "execution_count": 19,
   "metadata": {},
   "outputs": [],
   "source": [
    "# Import pandas for printing out SQL queries\n",
    "import pandas as pd\n",
    "\n",
    "# Create connection to SQL file\n",
    "conn = csv2sqldb.create_connection(SQL_DB_PATH)"
   ]
  },
  {
   "cell_type": "code",
   "execution_count": 20,
   "metadata": {},
   "outputs": [
    {
     "data": {
      "text/html": [
       "<div>\n",
       "<style scoped>\n",
       "    .dataframe tbody tr th:only-of-type {\n",
       "        vertical-align: middle;\n",
       "    }\n",
       "\n",
       "    .dataframe tbody tr th {\n",
       "        vertical-align: top;\n",
       "    }\n",
       "\n",
       "    .dataframe thead th {\n",
       "        text-align: right;\n",
       "    }\n",
       "</style>\n",
       "<table border=\"1\" class=\"dataframe\">\n",
       "  <thead>\n",
       "    <tr style=\"text-align: right;\">\n",
       "      <th></th>\n",
       "      <th>Number of nodes</th>\n",
       "    </tr>\n",
       "  </thead>\n",
       "  <tbody>\n",
       "    <tr>\n",
       "      <th>0</th>\n",
       "      <td>322004</td>\n",
       "    </tr>\n",
       "  </tbody>\n",
       "</table>\n",
       "</div>"
      ],
      "text/plain": [
       "   Number of nodes\n",
       "0           322004"
      ]
     },
     "execution_count": 20,
     "metadata": {},
     "output_type": "execute_result"
    }
   ],
   "source": [
    "command = \"\"\"SELECT COUNT(*) AS \"Number of nodes\" FROM nodes;\"\"\"\n",
    "pd.read_sql_query(command, conn)"
   ]
  },
  {
   "cell_type": "code",
   "execution_count": 21,
   "metadata": {},
   "outputs": [
    {
     "data": {
      "text/html": [
       "<div>\n",
       "<style scoped>\n",
       "    .dataframe tbody tr th:only-of-type {\n",
       "        vertical-align: middle;\n",
       "    }\n",
       "\n",
       "    .dataframe tbody tr th {\n",
       "        vertical-align: top;\n",
       "    }\n",
       "\n",
       "    .dataframe thead th {\n",
       "        text-align: right;\n",
       "    }\n",
       "</style>\n",
       "<table border=\"1\" class=\"dataframe\">\n",
       "  <thead>\n",
       "    <tr style=\"text-align: right;\">\n",
       "      <th></th>\n",
       "      <th>Number of ways</th>\n",
       "    </tr>\n",
       "  </thead>\n",
       "  <tbody>\n",
       "    <tr>\n",
       "      <th>0</th>\n",
       "      <td>45788</td>\n",
       "    </tr>\n",
       "  </tbody>\n",
       "</table>\n",
       "</div>"
      ],
      "text/plain": [
       "   Number of ways\n",
       "0           45788"
      ]
     },
     "execution_count": 21,
     "metadata": {},
     "output_type": "execute_result"
    }
   ],
   "source": [
    "command = \"\"\"SELECT COUNT(*) AS \"Number of ways\" FROM ways;\"\"\"\n",
    "pd.read_sql_query(command, conn)"
   ]
  },
  {
   "cell_type": "code",
   "execution_count": 22,
   "metadata": {},
   "outputs": [
    {
     "data": {
      "text/html": [
       "<div>\n",
       "<style scoped>\n",
       "    .dataframe tbody tr th:only-of-type {\n",
       "        vertical-align: middle;\n",
       "    }\n",
       "\n",
       "    .dataframe tbody tr th {\n",
       "        vertical-align: top;\n",
       "    }\n",
       "\n",
       "    .dataframe thead th {\n",
       "        text-align: right;\n",
       "    }\n",
       "</style>\n",
       "<table border=\"1\" class=\"dataframe\">\n",
       "  <thead>\n",
       "    <tr style=\"text-align: right;\">\n",
       "      <th></th>\n",
       "      <th>Number of unique users</th>\n",
       "    </tr>\n",
       "  </thead>\n",
       "  <tbody>\n",
       "    <tr>\n",
       "      <th>0</th>\n",
       "      <td>424</td>\n",
       "    </tr>\n",
       "  </tbody>\n",
       "</table>\n",
       "</div>"
      ],
      "text/plain": [
       "   Number of unique users\n",
       "0                     424"
      ]
     },
     "execution_count": 22,
     "metadata": {},
     "output_type": "execute_result"
    }
   ],
   "source": [
    "command = \"\"\"SELECT COUNT(DISTINCT(tables.uid)) AS \"Number of unique users\"\n",
    "             FROM (SELECT uid FROM nodes UNION ALL SELECT uid FROM ways) tables;\"\"\"\n",
    "pd.read_sql_query(command, conn)"
   ]
  },
  {
   "cell_type": "markdown",
   "metadata": {},
   "source": [
    "#### Number and type of shops"
   ]
  },
  {
   "cell_type": "code",
   "execution_count": 23,
   "metadata": {},
   "outputs": [
    {
     "data": {
      "text/html": [
       "<div>\n",
       "<style scoped>\n",
       "    .dataframe tbody tr th:only-of-type {\n",
       "        vertical-align: middle;\n",
       "    }\n",
       "\n",
       "    .dataframe tbody tr th {\n",
       "        vertical-align: top;\n",
       "    }\n",
       "\n",
       "    .dataframe thead th {\n",
       "        text-align: right;\n",
       "    }\n",
       "</style>\n",
       "<table border=\"1\" class=\"dataframe\">\n",
       "  <thead>\n",
       "    <tr style=\"text-align: right;\">\n",
       "      <th></th>\n",
       "      <th>value</th>\n",
       "      <th>Count</th>\n",
       "    </tr>\n",
       "  </thead>\n",
       "  <tbody>\n",
       "    <tr>\n",
       "      <th>0</th>\n",
       "      <td>clothes</td>\n",
       "      <td>124</td>\n",
       "    </tr>\n",
       "    <tr>\n",
       "      <th>1</th>\n",
       "      <td>supermarket</td>\n",
       "      <td>118</td>\n",
       "    </tr>\n",
       "    <tr>\n",
       "      <th>2</th>\n",
       "      <td>hairdresser</td>\n",
       "      <td>69</td>\n",
       "    </tr>\n",
       "    <tr>\n",
       "      <th>3</th>\n",
       "      <td>bakery</td>\n",
       "      <td>55</td>\n",
       "    </tr>\n",
       "    <tr>\n",
       "      <th>4</th>\n",
       "      <td>car_repair</td>\n",
       "      <td>31</td>\n",
       "    </tr>\n",
       "  </tbody>\n",
       "</table>\n",
       "</div>"
      ],
      "text/plain": [
       "         value  Count\n",
       "0      clothes    124\n",
       "1  supermarket    118\n",
       "2  hairdresser     69\n",
       "3       bakery     55\n",
       "4   car_repair     31"
      ]
     },
     "execution_count": 23,
     "metadata": {},
     "output_type": "execute_result"
    }
   ],
   "source": [
    "command = \"\"\"SELECT tags.value, COUNT(*) AS Count \n",
    "             FROM (SELECT * FROM nodes_tags UNION ALL SELECT * FROM ways_tags) tags\n",
    "             WHERE tags.key == 'shop' GROUP BY tags.value ORDER BY count DESC LIMIT 5;\"\"\"\n",
    "pd.read_sql_query(command, conn)"
   ]
  },
  {
   "cell_type": "markdown",
   "metadata": {},
   "source": [
    "The type of shop with the highest presence in the database are clothes' shops, so I would like to see which clothing stores are the most common."
   ]
  },
  {
   "cell_type": "code",
   "execution_count": 24,
   "metadata": {},
   "outputs": [
    {
     "data": {
      "text/html": [
       "<div>\n",
       "<style scoped>\n",
       "    .dataframe tbody tr th:only-of-type {\n",
       "        vertical-align: middle;\n",
       "    }\n",
       "\n",
       "    .dataframe tbody tr th {\n",
       "        vertical-align: top;\n",
       "    }\n",
       "\n",
       "    .dataframe thead th {\n",
       "        text-align: right;\n",
       "    }\n",
       "</style>\n",
       "<table border=\"1\" class=\"dataframe\">\n",
       "  <thead>\n",
       "    <tr style=\"text-align: right;\">\n",
       "      <th></th>\n",
       "      <th>value</th>\n",
       "      <th>Count</th>\n",
       "    </tr>\n",
       "  </thead>\n",
       "  <tbody>\n",
       "    <tr>\n",
       "      <th>0</th>\n",
       "      <td>Pull &amp; Bear</td>\n",
       "      <td>3</td>\n",
       "    </tr>\n",
       "    <tr>\n",
       "      <th>1</th>\n",
       "      <td>Miss-tic</td>\n",
       "      <td>3</td>\n",
       "    </tr>\n",
       "    <tr>\n",
       "      <th>2</th>\n",
       "      <td>Zara</td>\n",
       "      <td>2</td>\n",
       "    </tr>\n",
       "    <tr>\n",
       "      <th>3</th>\n",
       "      <td>Women Secret</td>\n",
       "      <td>2</td>\n",
       "    </tr>\n",
       "    <tr>\n",
       "      <th>4</th>\n",
       "      <td>Vazva</td>\n",
       "      <td>2</td>\n",
       "    </tr>\n",
       "  </tbody>\n",
       "</table>\n",
       "</div>"
      ],
      "text/plain": [
       "          value  Count\n",
       "0   Pull & Bear      3\n",
       "1      Miss-tic      3\n",
       "2          Zara      2\n",
       "3  Women Secret      2\n",
       "4         Vazva      2"
      ]
     },
     "execution_count": 24,
     "metadata": {},
     "output_type": "execute_result"
    }
   ],
   "source": [
    "command = \"\"\"SELECT nodes_tags.value, COUNT(*) as Count\n",
    "             FROM nodes_tags JOIN (SELECT DISTINCT(id) FROM nodes_tags WHERE value='clothes') i ON nodes_tags.id=i.id\n",
    "             WHERE nodes_tags.key='name' GROUP BY nodes_tags.value ORDER BY Count DESC LIMIT 5;\"\"\"\n",
    "pd.read_sql_query(command, conn)"
   ]
  },
  {
   "cell_type": "markdown",
   "metadata": {},
   "source": [
    "Pull & Bear and Miss-tic are the two most common apparel stores in the map. However, it seems that the total number of shops is not truly representative of the reality as, for example, there are &ndash; to my knowledge &ndash; at least 5 Zara stores in the city. This might be a sign that the information contained in the OpenStreetMap of the city is incomplete, as not all stores of a given brand are included in it.\n",
    "\n",
    "(As a side note, the reason for choosing Zara as an example is that the first ever Zara shop was opened in A Coruña in the 1970's and its parent company is based in the neighbor city of Arteixo, also present in the map data.)\n",
    "\n",
    "## 5. Ideas for improvement\n",
    "Seeing that the data relative to stores is not fully complete, my first proposal would be to complete this section of the map. Including the information of every single retailer in an entire city might be challenging and extremely time consuming, nevertheless, a lot of data should be easily accessible online, at least that related to medium or large shops."
   ]
  },
  {
   "cell_type": "code",
   "execution_count": 25,
   "metadata": {},
   "outputs": [
    {
     "data": {
      "text/html": [
       "<div>\n",
       "<style scoped>\n",
       "    .dataframe tbody tr th:only-of-type {\n",
       "        vertical-align: middle;\n",
       "    }\n",
       "\n",
       "    .dataframe tbody tr th {\n",
       "        vertical-align: top;\n",
       "    }\n",
       "\n",
       "    .dataframe thead th {\n",
       "        text-align: right;\n",
       "    }\n",
       "</style>\n",
       "<table border=\"1\" class=\"dataframe\">\n",
       "  <thead>\n",
       "    <tr style=\"text-align: right;\">\n",
       "      <th></th>\n",
       "      <th>value</th>\n",
       "      <th>Count</th>\n",
       "    </tr>\n",
       "  </thead>\n",
       "  <tbody>\n",
       "    <tr>\n",
       "      <th>0</th>\n",
       "      <td>taxi</td>\n",
       "      <td>12</td>\n",
       "    </tr>\n",
       "    <tr>\n",
       "      <th>1</th>\n",
       "      <td>parking</td>\n",
       "      <td>12</td>\n",
       "    </tr>\n",
       "    <tr>\n",
       "      <th>2</th>\n",
       "      <td>bicycle_rental</td>\n",
       "      <td>4</td>\n",
       "    </tr>\n",
       "  </tbody>\n",
       "</table>\n",
       "</div>"
      ],
      "text/plain": [
       "            value  Count\n",
       "0            taxi     12\n",
       "1         parking     12\n",
       "2  bicycle_rental      4"
      ]
     },
     "execution_count": 25,
     "metadata": {},
     "output_type": "execute_result"
    }
   ],
   "source": [
    "command = \"\"\"SELECT tags.value, COUNT(*) AS Count\n",
    "             FROM (SELECT * FROM nodes_tags UNION ALL SELECT * FROM ways_tags) tags \n",
    "              JOIN (SELECT DISTINCT(id) FROM (SELECT * FROM nodes_tags UNION ALL SELECT * FROM ways_tags) WHERE key='street' AND type='name') i\n",
    "              ON tags.id=i.id WHERE tags.key='amenity' GROUP BY tags.value ORDER BY Count DESC;\"\"\"\n",
    "pd.read_sql_query(command, conn)"
   ]
  },
  {
   "cell_type": "markdown",
   "metadata": {},
   "source": [
    "One of the issues I discovered during the data auditing process is that some nodes in the map contain street names and addresses tagged as \"name\". For this reason, I inspected the database to find the type of amenities which fall in this category. I observed that these points correspond to transport points, which could indicate that these transport nodes are named by their address &ndash; as I observed during the data auditing with the bus stops. However, further investigations showed me that there are other transport points which do contain their addresses tagged as \"addr:street\", creating an inconsistency in the data. Therefore, I think it should be feasible to correct this issue by setting all street names and addresses to tags such as \"addr:street\" and \"addr:housenumber\"."
   ]
  },
  {
   "cell_type": "markdown",
   "metadata": {},
   "source": [
    "Finally, also during the data auditing, I observed that some places are tagged as \"addr:street\" even though they do not correspond to streets, such as parks and university campuses. I did not correct this issue, since it could not be done programmatically. Nevertheless, I believe these points should be assessed in order to correct any invalid data. As an example, I listed all the tags related to nodes where the \"addr:street\" is *Xardín de San Carlos*, which corresponds to a small garden next to my home. "
   ]
  },
  {
   "cell_type": "code",
   "execution_count": 26,
   "metadata": {},
   "outputs": [
    {
     "data": {
      "text/html": [
       "<div>\n",
       "<style scoped>\n",
       "    .dataframe tbody tr th:only-of-type {\n",
       "        vertical-align: middle;\n",
       "    }\n",
       "\n",
       "    .dataframe tbody tr th {\n",
       "        vertical-align: top;\n",
       "    }\n",
       "\n",
       "    .dataframe thead th {\n",
       "        text-align: right;\n",
       "    }\n",
       "</style>\n",
       "<table border=\"1\" class=\"dataframe\">\n",
       "  <thead>\n",
       "    <tr style=\"text-align: right;\">\n",
       "      <th></th>\n",
       "      <th>id</th>\n",
       "      <th>key</th>\n",
       "      <th>value</th>\n",
       "      <th>type</th>\n",
       "      <th>id</th>\n",
       "    </tr>\n",
       "  </thead>\n",
       "  <tbody>\n",
       "    <tr>\n",
       "      <th>0</th>\n",
       "      <td>3406247431</td>\n",
       "      <td>city</td>\n",
       "      <td>A Coruña</td>\n",
       "      <td>addr</td>\n",
       "      <td>3406247431</td>\n",
       "    </tr>\n",
       "    <tr>\n",
       "      <th>1</th>\n",
       "      <td>3406247431</td>\n",
       "      <td>housenumber</td>\n",
       "      <td>1</td>\n",
       "      <td>addr</td>\n",
       "      <td>3406247431</td>\n",
       "    </tr>\n",
       "    <tr>\n",
       "      <th>2</th>\n",
       "      <td>3406247431</td>\n",
       "      <td>postcode</td>\n",
       "      <td>15001</td>\n",
       "      <td>addr</td>\n",
       "      <td>3406247431</td>\n",
       "    </tr>\n",
       "    <tr>\n",
       "      <th>3</th>\n",
       "      <td>3406247431</td>\n",
       "      <td>source</td>\n",
       "      <td>Catastro 18-3-2015</td>\n",
       "      <td>regular</td>\n",
       "      <td>3406247431</td>\n",
       "    </tr>\n",
       "    <tr>\n",
       "      <th>4</th>\n",
       "      <td>3406247431</td>\n",
       "      <td>street</td>\n",
       "      <td>Xardín de San Carlos</td>\n",
       "      <td>addr</td>\n",
       "      <td>3406247431</td>\n",
       "    </tr>\n",
       "    <tr>\n",
       "      <th>5</th>\n",
       "      <td>75260454</td>\n",
       "      <td>alt_name</td>\n",
       "      <td>Arquivo Histórico de Galicia</td>\n",
       "      <td>name</td>\n",
       "      <td>75260454</td>\n",
       "    </tr>\n",
       "    <tr>\n",
       "      <th>6</th>\n",
       "      <td>75260454</td>\n",
       "      <td>city</td>\n",
       "      <td>A Coruña</td>\n",
       "      <td>addr</td>\n",
       "      <td>75260454</td>\n",
       "    </tr>\n",
       "    <tr>\n",
       "      <th>7</th>\n",
       "      <td>75260454</td>\n",
       "      <td>es</td>\n",
       "      <td>Archivo del Reino de Galicia</td>\n",
       "      <td>name</td>\n",
       "      <td>75260454</td>\n",
       "    </tr>\n",
       "    <tr>\n",
       "      <th>8</th>\n",
       "      <td>75260454</td>\n",
       "      <td>gl</td>\n",
       "      <td>Arquivo Histórico de Galiza</td>\n",
       "      <td>alt_name</td>\n",
       "      <td>75260454</td>\n",
       "    </tr>\n",
       "    <tr>\n",
       "      <th>9</th>\n",
       "      <td>75260454</td>\n",
       "      <td>gl</td>\n",
       "      <td>Arquivo do Reino de Galicia</td>\n",
       "      <td>name</td>\n",
       "      <td>75260454</td>\n",
       "    </tr>\n",
       "  </tbody>\n",
       "</table>\n",
       "</div>"
      ],
      "text/plain": [
       "           id          key                         value      type          id\n",
       "0  3406247431         city                      A Coruña      addr  3406247431\n",
       "1  3406247431  housenumber                             1      addr  3406247431\n",
       "2  3406247431     postcode                         15001      addr  3406247431\n",
       "3  3406247431       source            Catastro 18-3-2015   regular  3406247431\n",
       "4  3406247431       street          Xardín de San Carlos      addr  3406247431\n",
       "5    75260454     alt_name  Arquivo Histórico de Galicia      name    75260454\n",
       "6    75260454         city                      A Coruña      addr    75260454\n",
       "7    75260454           es  Archivo del Reino de Galicia      name    75260454\n",
       "8    75260454           gl   Arquivo Histórico de Galiza  alt_name    75260454\n",
       "9    75260454           gl   Arquivo do Reino de Galicia      name    75260454"
      ]
     },
     "execution_count": 26,
     "metadata": {},
     "output_type": "execute_result"
    }
   ],
   "source": [
    "command = \"\"\"SELECT *\n",
    "             FROM (SELECT * FROM nodes_tags UNION ALL SELECT * FROM ways_tags) tags \n",
    "              JOIN (SELECT DISTINCT(id) FROM (SELECT * FROM nodes_tags UNION ALL SELECT * FROM ways_tags) WHERE value='Xardín de San Carlos' AND type='addr') i\n",
    "              ON tags.id=i.id LIMIT 10;\"\"\"\n",
    "pd.read_sql_query(command, conn)"
   ]
  },
  {
   "cell_type": "markdown",
   "metadata": {},
   "source": [
    "I found out that there are two nodes with this tag: one of them corresponds to the garden itself (id = 3406247431), and the other one to the official archive of the region (id = 75260454). In the first case, I would simply change the tag containing the name of the park from \"addr:street\" to \"name\". For the second one, I would change the name of the street from *Xardín de San Carlos* to *Rúa San Carlos*, which is the actual street name where the building is located. \n",
    "This process would need to be performed for all the nodes and ways containing names of places in the place of street names. As mentioned before, this can only be done by analyzing each case individually, which would be highly time consuming."
   ]
  },
  {
   "cell_type": "markdown",
   "metadata": {},
   "source": [
    "## 6. Conclusions\n",
    "To summarize, during this study I have examined and cleaned the OpenStreetMap data of my hometown, A Coruña. In doing this, I have observed that the map is incomplete in some parts and that it presents some issues, mainly related to language and formatting questions, but also that there are some points which contain invalid data, such as street names which do not exist.\n",
    "\n",
    "All in all, however, it has been a very constructive exercise and, particularly interesting, was to see the large amount of information that is available for a relatively small city such as this one."
   ]
  },
  {
   "cell_type": "markdown",
   "metadata": {},
   "source": [
    "## 7. References\n",
    "A list of websites and repositories that I have used and referenced in the text is provided in the file **REFERENCES.md**."
   ]
  }
 ],
 "metadata": {
  "kernelspec": {
   "display_name": "Python 2",
   "language": "python",
   "name": "python2"
  },
  "language_info": {
   "codemirror_mode": {
    "name": "ipython",
    "version": 2
   },
   "file_extension": ".py",
   "mimetype": "text/x-python",
   "name": "python",
   "nbconvert_exporter": "python",
   "pygments_lexer": "ipython2",
   "version": "2.7.17"
  }
 },
 "nbformat": 4,
 "nbformat_minor": 4
}
